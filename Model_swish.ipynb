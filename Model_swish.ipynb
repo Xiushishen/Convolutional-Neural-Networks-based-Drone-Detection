{
 "cells": [
  {
   "cell_type": "code",
   "execution_count": null,
   "id": "e8a8bc61",
   "metadata": {},
   "outputs": [],
   "source": [
    "import os\n",
    "import pandas as pd\n",
    "import numpy as np\n",
    "import matplotlib.pyplot as plt\n",
    "%matplotlib inline\n",
    "import seaborn as sns\n",
    "from tensorflow import keras\n",
    "import tensorflow as tf\n",
    "from tensorflow.keras import layers\n",
    "from sklearn.model_selection import train_test_split\n",
    "import warnings\n",
    "import csv\n",
    "warnings.filterwarnings('ignore')"
   ]
  },
  {
   "cell_type": "code",
   "execution_count": null,
   "id": "5e78bb90",
   "metadata": {},
   "outputs": [],
   "source": [
    "import cv2\n",
    "from PIL import Image"
   ]
  },
  {
   "cell_type": "code",
   "execution_count": null,
   "id": "fcbefd55",
   "metadata": {},
   "outputs": [],
   "source": [
    "train_image = []\n",
    "train_annotation = []"
   ]
  },
  {
   "cell_type": "code",
   "execution_count": null,
   "id": "aa2e425f",
   "metadata": {},
   "outputs": [],
   "source": [
    "import glob\n",
    "path = \"/Users/shenx/292_project/drone_dataset_yolo/dataset_txt/*.jpg\"\n",
    "image_file = glob.glob(path,recursive = True)"
   ]
  },
  {
   "cell_type": "code",
   "execution_count": null,
   "id": "97268b74",
   "metadata": {},
   "outputs": [],
   "source": [
    "image_file"
   ]
  },
  {
   "cell_type": "code",
   "execution_count": null,
   "id": "ef6a6cff",
   "metadata": {},
   "outputs": [],
   "source": [
    "for i in image_file:     #slicing for insufficient memory\n",
    "    Load_image = Image.open(i).convert('RGB')\n",
    "    nmpy_img = Load_image.resize((258,258))\n",
    "    train_image.append(np.asarray(nmpy_img))\n",
    "    \n",
    "    seperate_path = i.split('.')\n",
    "    seperate_path[1] = '.txt'\n",
    "    \n",
    "    with open(seperate_path[0]+seperate_path[1]) as f:\n",
    "        lines = f.readlines()\n",
    "        tmp_lst = lines[0].split(' ')\n",
    "        #label = int(tmp_lst[0])\n",
    "        startX = float(tmp_lst[1])\n",
    "        startY = float(tmp_lst[2])\n",
    "        endX = float(tmp_lst[3])\n",
    "        endY = float(tmp_lst[4])\n",
    "        train_annotation.append((startX, startY, endX, endY))"
   ]
  },
  {
   "cell_type": "code",
   "execution_count": null,
   "id": "c2918147",
   "metadata": {},
   "outputs": [],
   "source": [
    "plt.figure(figsize=(20, 20))\n",
    "\n",
    "\n",
    "for i in range(28):\n",
    "    ax = plt.subplot(7, 7, i + 1)\n",
    "    plt.imshow(train_image[i].astype(\"uint8\"))\n",
    "    plt.axis(\"off\")"
   ]
  },
  {
   "cell_type": "code",
   "execution_count": null,
   "id": "c1aaf8a2",
   "metadata": {},
   "outputs": [],
   "source": [
    "from sklearn.model_selection import train_test_split\n",
    "data = np.array(train_image, dtype='float32') / 255.0   # memory not sufficient !!\n",
    "targets = np.array(train_annotation, dtype='float32')\n",
    "\n",
    "split = train_test_split(data, targets, test_size=0.10, random_state=42)\n",
    "\n",
    "(trainImages, testImages) = split[:2]\n",
    "(trainTargets, testTargets) = split[2:4]"
   ]
  },
  {
   "cell_type": "code",
   "execution_count": null,
   "id": "3ebcd881",
   "metadata": {},
   "outputs": [],
   "source": [
    "trainImages"
   ]
  },
  {
   "cell_type": "code",
   "execution_count": null,
   "id": "b442b97c",
   "metadata": {},
   "outputs": [],
   "source": [
    "data.shape, targets.shape"
   ]
  },
  {
   "cell_type": "code",
   "execution_count": null,
   "id": "fd5d1aa7",
   "metadata": {},
   "outputs": [],
   "source": [
    "from tensorflow.keras.layers import Dense,Flatten\n",
    "from tensorflow.keras import Model,Input\n",
    "\n",
    "from keras.backend import sigmoid\n",
    "\n",
    "def swish(x, beta = 1):\n",
    "    return (x * sigmoid(beta * x))\n",
    "\n",
    "from keras.layers import Activation\n",
    "tf.keras.utils.get_custom_objects().update({'swish': Activation(swish)})\n",
    "\n",
    "def build_model():\n",
    "    vgg = tf.keras.applications.vgg16.VGG16(weights=\"imagenet\", include_top=False, input_tensor=Input(shape=(258, 258, 3)))\n",
    "\n",
    "    vgg.trainable = True\n",
    "\n",
    "    flatten = vgg.output\n",
    "    flatten = Flatten()(flatten)\n",
    "\n",
    "    bboxHead = Dense(128, activation=\"swish\")(flatten)\n",
    "    bboxHead = Dense(64, activation=\"swish\")(bboxHead)\n",
    "    bboxHead = Dense(32, activation=\"swish\")(bboxHead)\n",
    "    bboxHead = Dense(4, activation=\"linear\")(bboxHead)\n",
    "\n",
    "    model = Model(inputs=vgg.input, outputs=bboxHead)\n",
    "\n",
    "    return model"
   ]
  },
  {
   "cell_type": "code",
   "execution_count": null,
   "id": "feff9f27",
   "metadata": {},
   "outputs": [],
   "source": [
    "model = build_model()"
   ]
  },
  {
   "cell_type": "code",
   "execution_count": null,
   "id": "b3ee5924",
   "metadata": {},
   "outputs": [],
   "source": [
    "model.summary()"
   ]
  },
  {
   "cell_type": "code",
   "execution_count": null,
   "id": "78c09865",
   "metadata": {},
   "outputs": [],
   "source": [
    "model.compile(optimizer=tf.keras.optimizers.Adam(learning_rate=0.001), loss='mse', metrics=['accuracy'])\n",
    "\n",
    "save_best = tf.keras.callbacks.ModelCheckpoint(\"Model_swish.h5\",monitor='val_loss',save_best_only=True, verbose=1)"
   ]
  },
  {
   "cell_type": "code",
   "execution_count": 15,
   "id": "17b4549c",
   "metadata": {},
   "outputs": [
    {
     "name": "stdout",
     "output_type": "stream",
     "text": [
      "Epoch 1/50\n",
      "62/62 [==============================] - ETA: 0s - loss: 1.4121 - accuracy: 0.5859\n",
      "Epoch 1: val_loss improved from inf to 0.03432, saving model to Model_swish.h5\n",
      "62/62 [==============================] - 446s 7s/step - loss: 1.4121 - accuracy: 0.5859 - val_loss: 0.0343 - val_accuracy: 0.6082\n",
      "Epoch 2/50\n",
      "62/62 [==============================] - ETA: 0s - loss: 0.0330 - accuracy: 0.6442\n",
      "Epoch 2: val_loss did not improve from 0.03432\n",
      "62/62 [==============================] - 422s 7s/step - loss: 0.0330 - accuracy: 0.6442 - val_loss: 0.0344 - val_accuracy: 0.6082\n",
      "Epoch 3/50\n",
      "62/62 [==============================] - ETA: 0s - loss: 0.0328 - accuracy: 0.6431\n",
      "Epoch 3: val_loss did not improve from 0.03432\n",
      "62/62 [==============================] - 421s 7s/step - loss: 0.0328 - accuracy: 0.6431 - val_loss: 0.0459 - val_accuracy: 0.6082\n",
      "Epoch 4/50\n",
      "62/62 [==============================] - ETA: 0s - loss: 0.0333 - accuracy: 0.6431\n",
      "Epoch 4: val_loss improved from 0.03432 to 0.03047, saving model to Model_swish.h5\n",
      "62/62 [==============================] - 420s 7s/step - loss: 0.0333 - accuracy: 0.6431 - val_loss: 0.0305 - val_accuracy: 0.6041\n",
      "Epoch 5/50\n",
      "62/62 [==============================] - ETA: 0s - loss: 0.0297 - accuracy: 0.6442\n",
      "Epoch 5: val_loss improved from 0.03047 to 0.02929, saving model to Model_swish.h5\n",
      "62/62 [==============================] - 421s 7s/step - loss: 0.0297 - accuracy: 0.6442 - val_loss: 0.0293 - val_accuracy: 0.6000\n",
      "Epoch 6/50\n",
      "62/62 [==============================] - ETA: 0s - loss: 0.0703 - accuracy: 0.5654\n",
      "Epoch 6: val_loss did not improve from 0.02929\n",
      "62/62 [==============================] - 423s 7s/step - loss: 0.0703 - accuracy: 0.5654 - val_loss: 0.0478 - val_accuracy: 0.6082\n",
      "Epoch 7/50\n",
      "62/62 [==============================] - ETA: 0s - loss: 0.0360 - accuracy: 0.6442\n",
      "Epoch 7: val_loss did not improve from 0.02929\n",
      "62/62 [==============================] - 421s 7s/step - loss: 0.0360 - accuracy: 0.6442 - val_loss: 0.0349 - val_accuracy: 0.6082\n",
      "Epoch 8/50\n",
      "62/62 [==============================] - ETA: 0s - loss: 0.0336 - accuracy: 0.6431\n",
      "Epoch 8: val_loss did not improve from 0.02929\n",
      "62/62 [==============================] - 420s 7s/step - loss: 0.0336 - accuracy: 0.6431 - val_loss: 0.0331 - val_accuracy: 0.6082\n",
      "Epoch 9/50\n",
      "62/62 [==============================] - ETA: 0s - loss: 0.0307 - accuracy: 0.6431\n",
      "Epoch 9: val_loss did not improve from 0.02929\n",
      "62/62 [==============================] - 421s 7s/step - loss: 0.0307 - accuracy: 0.6431 - val_loss: 0.0303 - val_accuracy: 0.5714\n",
      "Epoch 10/50\n",
      "62/62 [==============================] - ETA: 0s - loss: 0.0308 - accuracy: 0.6380\n",
      "Epoch 10: val_loss did not improve from 0.02929\n",
      "62/62 [==============================] - 420s 7s/step - loss: 0.0308 - accuracy: 0.6380 - val_loss: 0.0393 - val_accuracy: 0.6082\n",
      "Epoch 11/50\n",
      "62/62 [==============================] - ETA: 0s - loss: 0.0354 - accuracy: 0.6442\n",
      "Epoch 11: val_loss did not improve from 0.02929\n",
      "62/62 [==============================] - 419s 7s/step - loss: 0.0354 - accuracy: 0.6442 - val_loss: 0.0334 - val_accuracy: 0.6082\n",
      "Epoch 12/50\n",
      "62/62 [==============================] - ETA: 0s - loss: 0.0322 - accuracy: 0.6442\n",
      "Epoch 12: val_loss did not improve from 0.02929\n",
      "62/62 [==============================] - 422s 7s/step - loss: 0.0322 - accuracy: 0.6442 - val_loss: 0.0308 - val_accuracy: 0.6082\n",
      "Epoch 13/50\n",
      "62/62 [==============================] - ETA: 0s - loss: 0.0271 - accuracy: 0.6687\n",
      "Epoch 13: val_loss did not improve from 0.02929\n",
      "62/62 [==============================] - 421s 7s/step - loss: 0.0271 - accuracy: 0.6687 - val_loss: 0.0383 - val_accuracy: 0.6082\n",
      "Epoch 14/50\n",
      "62/62 [==============================] - ETA: 0s - loss: 0.0234 - accuracy: 0.7035\n",
      "Epoch 14: val_loss improved from 0.02929 to 0.02373, saving model to Model_swish.h5\n",
      "62/62 [==============================] - 344s 6s/step - loss: 0.0234 - accuracy: 0.7035 - val_loss: 0.0237 - val_accuracy: 0.6490\n",
      "Epoch 15/50\n",
      "62/62 [==============================] - ETA: 0s - loss: 0.0219 - accuracy: 0.7055\n",
      "Epoch 15: val_loss did not improve from 0.02373\n",
      "62/62 [==============================] - 321s 5s/step - loss: 0.0219 - accuracy: 0.7055 - val_loss: 0.0242 - val_accuracy: 0.6531\n",
      "Epoch 16/50\n",
      "62/62 [==============================] - ETA: 0s - loss: 0.0208 - accuracy: 0.7065\n",
      "Epoch 16: val_loss improved from 0.02373 to 0.02046, saving model to Model_swish.h5\n",
      "62/62 [==============================] - 338s 5s/step - loss: 0.0208 - accuracy: 0.7065 - val_loss: 0.0205 - val_accuracy: 0.7224\n",
      "Epoch 17/50\n",
      "62/62 [==============================] - ETA: 0s - loss: 0.0196 - accuracy: 0.7198\n",
      "Epoch 17: val_loss did not improve from 0.02046\n",
      "62/62 [==============================] - 423s 7s/step - loss: 0.0196 - accuracy: 0.7198 - val_loss: 0.0281 - val_accuracy: 0.6286\n",
      "Epoch 18/50\n",
      "62/62 [==============================] - ETA: 0s - loss: 0.0216 - accuracy: 0.7178\n",
      "Epoch 18: val_loss did not improve from 0.02046\n",
      "62/62 [==============================] - 423s 7s/step - loss: 0.0216 - accuracy: 0.7178 - val_loss: 0.0228 - val_accuracy: 0.6857\n",
      "Epoch 19/50\n",
      "62/62 [==============================] - ETA: 0s - loss: 0.0195 - accuracy: 0.7352\n",
      "Epoch 19: val_loss did not improve from 0.02046\n",
      "62/62 [==============================] - 423s 7s/step - loss: 0.0195 - accuracy: 0.7352 - val_loss: 0.0267 - val_accuracy: 0.6367\n",
      "Epoch 20/50\n",
      "62/62 [==============================] - ETA: 0s - loss: 0.0256 - accuracy: 0.6912\n",
      "Epoch 20: val_loss did not improve from 0.02046\n",
      "62/62 [==============================] - 428s 7s/step - loss: 0.0256 - accuracy: 0.6912 - val_loss: 0.0224 - val_accuracy: 0.6816\n",
      "Epoch 21/50\n",
      "62/62 [==============================] - ETA: 0s - loss: 0.0180 - accuracy: 0.7485\n",
      "Epoch 21: val_loss improved from 0.02046 to 0.01860, saving model to Model_swish.h5\n",
      "62/62 [==============================] - 427s 7s/step - loss: 0.0180 - accuracy: 0.7485 - val_loss: 0.0186 - val_accuracy: 0.7429\n",
      "Epoch 22/50\n",
      "62/62 [==============================] - ETA: 0s - loss: 0.0163 - accuracy: 0.7587\n",
      "Epoch 22: val_loss did not improve from 0.01860\n",
      "62/62 [==============================] - 420s 7s/step - loss: 0.0163 - accuracy: 0.7587 - val_loss: 0.0187 - val_accuracy: 0.6980\n",
      "Epoch 23/50\n",
      "62/62 [==============================] - ETA: 0s - loss: 0.0158 - accuracy: 0.7669\n",
      "Epoch 23: val_loss did not improve from 0.01860\n",
      "62/62 [==============================] - 423s 7s/step - loss: 0.0158 - accuracy: 0.7669 - val_loss: 0.0188 - val_accuracy: 0.7265\n",
      "Epoch 24/50\n",
      "62/62 [==============================] - ETA: 0s - loss: 0.0158 - accuracy: 0.7679\n",
      "Epoch 24: val_loss did not improve from 0.01860\n",
      "62/62 [==============================] - 425s 7s/step - loss: 0.0158 - accuracy: 0.7679 - val_loss: 0.0189 - val_accuracy: 0.7143\n",
      "Epoch 25/50\n",
      "62/62 [==============================] - ETA: 0s - loss: 0.0150 - accuracy: 0.7710\n",
      "Epoch 25: val_loss did not improve from 0.01860\n",
      "62/62 [==============================] - 422s 7s/step - loss: 0.0150 - accuracy: 0.7710 - val_loss: 0.0197 - val_accuracy: 0.7061\n",
      "Epoch 26/50\n",
      "62/62 [==============================] - ETA: 0s - loss: 0.0139 - accuracy: 0.7781\n",
      "Epoch 26: val_loss did not improve from 0.01860\n",
      "62/62 [==============================] - 423s 7s/step - loss: 0.0139 - accuracy: 0.7781 - val_loss: 0.0190 - val_accuracy: 0.7184\n",
      "Epoch 27/50\n",
      "62/62 [==============================] - ETA: 0s - loss: 0.0131 - accuracy: 0.7761\n",
      "Epoch 27: val_loss did not improve from 0.01860\n",
      "62/62 [==============================] - 421s 7s/step - loss: 0.0131 - accuracy: 0.7761 - val_loss: 0.0202 - val_accuracy: 0.7306\n",
      "Epoch 28/50\n",
      "62/62 [==============================] - ETA: 0s - loss: 0.0159 - accuracy: 0.7597\n",
      "Epoch 28: val_loss did not improve from 0.01860\n",
      "62/62 [==============================] - 423s 7s/step - loss: 0.0159 - accuracy: 0.7597 - val_loss: 0.0215 - val_accuracy: 0.6857\n",
      "Epoch 29/50\n",
      "62/62 [==============================] - ETA: 0s - loss: 0.0149 - accuracy: 0.7648\n",
      "Epoch 29: val_loss improved from 0.01860 to 0.01811, saving model to Model_swish.h5\n",
      "62/62 [==============================] - 421s 7s/step - loss: 0.0149 - accuracy: 0.7648 - val_loss: 0.0181 - val_accuracy: 0.7224\n",
      "Epoch 30/50\n",
      "62/62 [==============================] - ETA: 0s - loss: 0.0127 - accuracy: 0.7935\n",
      "Epoch 30: val_loss did not improve from 0.01811\n",
      "62/62 [==============================] - 422s 7s/step - loss: 0.0127 - accuracy: 0.7935 - val_loss: 0.0185 - val_accuracy: 0.7143\n",
      "Epoch 31/50\n",
      "62/62 [==============================] - ETA: 0s - loss: 0.0122 - accuracy: 0.7904\n",
      "Epoch 31: val_loss did not improve from 0.01811\n",
      "62/62 [==============================] - 424s 7s/step - loss: 0.0122 - accuracy: 0.7904 - val_loss: 0.0186 - val_accuracy: 0.7551\n",
      "Epoch 32/50\n",
      "62/62 [==============================] - ETA: 0s - loss: 0.0117 - accuracy: 0.7986\n",
      "Epoch 32: val_loss did not improve from 0.01811\n",
      "62/62 [==============================] - 426s 7s/step - loss: 0.0117 - accuracy: 0.7986 - val_loss: 0.0186 - val_accuracy: 0.7224\n",
      "Epoch 33/50\n",
      "62/62 [==============================] - ETA: 0s - loss: 0.0106 - accuracy: 0.8057\n",
      "Epoch 33: val_loss improved from 0.01811 to 0.01767, saving model to Model_swish.h5\n",
      "62/62 [==============================] - 424s 7s/step - loss: 0.0106 - accuracy: 0.8057 - val_loss: 0.0177 - val_accuracy: 0.7265\n",
      "Epoch 34/50\n",
      "62/62 [==============================] - ETA: 0s - loss: 0.0094 - accuracy: 0.8200\n",
      "Epoch 34: val_loss did not improve from 0.01767\n",
      "62/62 [==============================] - 421s 7s/step - loss: 0.0094 - accuracy: 0.8200 - val_loss: 0.0183 - val_accuracy: 0.7184\n",
      "Epoch 35/50\n",
      "62/62 [==============================] - ETA: 0s - loss: 0.0105 - accuracy: 0.7863\n",
      "Epoch 35: val_loss did not improve from 0.01767\n",
      "62/62 [==============================] - 422s 7s/step - loss: 0.0105 - accuracy: 0.7863 - val_loss: 0.0180 - val_accuracy: 0.7306\n",
      "Epoch 36/50\n",
      "62/62 [==============================] - ETA: 0s - loss: 0.0095 - accuracy: 0.8200\n",
      "Epoch 36: val_loss did not improve from 0.01767\n",
      "62/62 [==============================] - 421s 7s/step - loss: 0.0095 - accuracy: 0.8200 - val_loss: 0.0193 - val_accuracy: 0.6980\n",
      "Epoch 37/50\n",
      "62/62 [==============================] - ETA: 0s - loss: 0.0081 - accuracy: 0.8395\n",
      "Epoch 37: val_loss did not improve from 0.01767\n",
      "62/62 [==============================] - 423s 7s/step - loss: 0.0081 - accuracy: 0.8395 - val_loss: 0.0185 - val_accuracy: 0.7102\n",
      "Epoch 38/50\n",
      "62/62 [==============================] - ETA: 0s - loss: 0.0079 - accuracy: 0.8272\n",
      "Epoch 38: val_loss did not improve from 0.01767\n",
      "62/62 [==============================] - 422s 7s/step - loss: 0.0079 - accuracy: 0.8272 - val_loss: 0.0188 - val_accuracy: 0.7061\n",
      "Epoch 39/50\n",
      "62/62 [==============================] - ETA: 0s - loss: 0.0070 - accuracy: 0.8456\n",
      "Epoch 39: val_loss did not improve from 0.01767\n",
      "62/62 [==============================] - 422s 7s/step - loss: 0.0070 - accuracy: 0.8456 - val_loss: 0.0193 - val_accuracy: 0.7224\n",
      "Epoch 40/50\n",
      "62/62 [==============================] - ETA: 0s - loss: 0.0063 - accuracy: 0.8476\n",
      "Epoch 40: val_loss did not improve from 0.01767\n",
      "62/62 [==============================] - 422s 7s/step - loss: 0.0063 - accuracy: 0.8476 - val_loss: 0.0182 - val_accuracy: 0.7224\n",
      "Epoch 41/50\n",
      "62/62 [==============================] - ETA: 0s - loss: 0.0052 - accuracy: 0.8691\n",
      "Epoch 41: val_loss did not improve from 0.01767\n",
      "62/62 [==============================] - 424s 7s/step - loss: 0.0052 - accuracy: 0.8691 - val_loss: 0.0185 - val_accuracy: 0.7347\n",
      "Epoch 42/50\n",
      "62/62 [==============================] - ETA: 0s - loss: 0.0048 - accuracy: 0.8630\n",
      "Epoch 42: val_loss did not improve from 0.01767\n",
      "62/62 [==============================] - 423s 7s/step - loss: 0.0048 - accuracy: 0.8630 - val_loss: 0.0195 - val_accuracy: 0.7429\n",
      "Epoch 43/50\n",
      "62/62 [==============================] - ETA: 0s - loss: 0.0046 - accuracy: 0.8701\n",
      "Epoch 43: val_loss did not improve from 0.01767\n",
      "62/62 [==============================] - 422s 7s/step - loss: 0.0046 - accuracy: 0.8701 - val_loss: 0.0207 - val_accuracy: 0.7265\n",
      "Epoch 44/50\n",
      "62/62 [==============================] - ETA: 0s - loss: 0.0042 - accuracy: 0.8773\n",
      "Epoch 44: val_loss did not improve from 0.01767\n",
      "62/62 [==============================] - 422s 7s/step - loss: 0.0042 - accuracy: 0.8773 - val_loss: 0.0190 - val_accuracy: 0.7347\n",
      "Epoch 45/50\n",
      "62/62 [==============================] - ETA: 0s - loss: 0.0041 - accuracy: 0.8742\n",
      "Epoch 45: val_loss did not improve from 0.01767\n",
      "62/62 [==============================] - 421s 7s/step - loss: 0.0041 - accuracy: 0.8742 - val_loss: 0.0185 - val_accuracy: 0.7224\n",
      "Epoch 46/50\n",
      "62/62 [==============================] - ETA: 0s - loss: 0.0031 - accuracy: 0.8906\n",
      "Epoch 46: val_loss did not improve from 0.01767\n",
      "62/62 [==============================] - 422s 7s/step - loss: 0.0031 - accuracy: 0.8906 - val_loss: 0.0183 - val_accuracy: 0.7429\n",
      "Epoch 47/50\n",
      "62/62 [==============================] - ETA: 0s - loss: 0.0042 - accuracy: 0.8712\n",
      "Epoch 47: val_loss did not improve from 0.01767\n",
      "62/62 [==============================] - 420s 7s/step - loss: 0.0042 - accuracy: 0.8712 - val_loss: 0.0199 - val_accuracy: 0.6898\n",
      "Epoch 48/50\n",
      "62/62 [==============================] - ETA: 0s - loss: 0.0034 - accuracy: 0.8937\n",
      "Epoch 48: val_loss did not improve from 0.01767\n",
      "62/62 [==============================] - 423s 7s/step - loss: 0.0034 - accuracy: 0.8937 - val_loss: 0.0194 - val_accuracy: 0.6980\n",
      "Epoch 49/50\n",
      "62/62 [==============================] - ETA: 0s - loss: 0.0031 - accuracy: 0.8906\n",
      "Epoch 49: val_loss did not improve from 0.01767\n",
      "62/62 [==============================] - 422s 7s/step - loss: 0.0031 - accuracy: 0.8906 - val_loss: 0.0198 - val_accuracy: 0.7061\n",
      "Epoch 50/50\n",
      "62/62 [==============================] - ETA: 0s - loss: 0.0028 - accuracy: 0.8957\n",
      "Epoch 50: val_loss did not improve from 0.01767\n",
      "62/62 [==============================] - 425s 7s/step - loss: 0.0028 - accuracy: 0.8957 - val_loss: 0.0196 - val_accuracy: 0.7347\n"
     ]
    },
    {
     "data": {
      "text/plain": [
       "<keras.callbacks.History at 0x1eee2830be0>"
      ]
     },
     "execution_count": 15,
     "metadata": {},
     "output_type": "execute_result"
    }
   ],
   "source": [
    "model.fit(trainImages, trainTargets, validation_split=0.2, batch_size= 16, epochs=50, verbose=1, callbacks=[save_best])"
   ]
  },
  {
   "cell_type": "code",
   "execution_count": 4,
   "id": "9d6629e4",
   "metadata": {},
   "outputs": [
    {
     "ename": "ValueError",
     "evalue": "Unknown activation function: 'Activation'. Please ensure you are using a `keras.utils.custom_object_scope` and that this object is included in the scope. See https://www.tensorflow.org/guide/keras/save_and_serialize#registering_the_custom_object for details.",
     "output_type": "error",
     "traceback": [
      "\u001b[1;31m---------------------------------------------------------------------------\u001b[0m",
      "\u001b[1;31mValueError\u001b[0m                                Traceback (most recent call last)",
      "Input \u001b[1;32mIn [4]\u001b[0m, in \u001b[0;36m<cell line: 2>\u001b[1;34m()\u001b[0m\n\u001b[0;32m      1\u001b[0m \u001b[38;5;28;01mfrom\u001b[39;00m \u001b[38;5;21;01mkeras\u001b[39;00m\u001b[38;5;21;01m.\u001b[39;00m\u001b[38;5;21;01mlayers\u001b[39;00m \u001b[38;5;28;01mimport\u001b[39;00m Activation\n\u001b[1;32m----> 2\u001b[0m model \u001b[38;5;241m=\u001b[39m \u001b[43mtf\u001b[49m\u001b[38;5;241;43m.\u001b[39;49m\u001b[43mkeras\u001b[49m\u001b[38;5;241;43m.\u001b[39;49m\u001b[43mmodels\u001b[49m\u001b[38;5;241;43m.\u001b[39;49m\u001b[43mload_model\u001b[49m\u001b[43m(\u001b[49m\u001b[38;5;124;43m'\u001b[39;49m\u001b[38;5;124;43m./Model_swish.h5\u001b[39;49m\u001b[38;5;124;43m'\u001b[39;49m\u001b[43m)\u001b[49m\n",
      "File \u001b[1;32m~\\AppData\\Roaming\\Python\\Python39\\site-packages\\keras\\utils\\traceback_utils.py:70\u001b[0m, in \u001b[0;36mfilter_traceback.<locals>.error_handler\u001b[1;34m(*args, **kwargs)\u001b[0m\n\u001b[0;32m     67\u001b[0m     filtered_tb \u001b[38;5;241m=\u001b[39m _process_traceback_frames(e\u001b[38;5;241m.\u001b[39m__traceback__)\n\u001b[0;32m     68\u001b[0m     \u001b[38;5;66;03m# To get the full stack trace, call:\u001b[39;00m\n\u001b[0;32m     69\u001b[0m     \u001b[38;5;66;03m# `tf.debugging.disable_traceback_filtering()`\u001b[39;00m\n\u001b[1;32m---> 70\u001b[0m     \u001b[38;5;28;01mraise\u001b[39;00m e\u001b[38;5;241m.\u001b[39mwith_traceback(filtered_tb) \u001b[38;5;28;01mfrom\u001b[39;00m \u001b[38;5;28mNone\u001b[39m\n\u001b[0;32m     71\u001b[0m \u001b[38;5;28;01mfinally\u001b[39;00m:\n\u001b[0;32m     72\u001b[0m     \u001b[38;5;28;01mdel\u001b[39;00m filtered_tb\n",
      "File \u001b[1;32m~\\AppData\\Roaming\\Python\\Python39\\site-packages\\keras\\saving\\legacy\\serialization.py:385\u001b[0m, in \u001b[0;36mclass_and_config_for_serialized_keras_object\u001b[1;34m(config, module_objects, custom_objects, printable_module_name)\u001b[0m\n\u001b[0;32m    381\u001b[0m \u001b[38;5;28mcls\u001b[39m \u001b[38;5;241m=\u001b[39m object_registration\u001b[38;5;241m.\u001b[39mget_registered_object(\n\u001b[0;32m    382\u001b[0m     class_name, custom_objects, module_objects\n\u001b[0;32m    383\u001b[0m )\n\u001b[0;32m    384\u001b[0m \u001b[38;5;28;01mif\u001b[39;00m \u001b[38;5;28mcls\u001b[39m \u001b[38;5;129;01mis\u001b[39;00m \u001b[38;5;28;01mNone\u001b[39;00m:\n\u001b[1;32m--> 385\u001b[0m     \u001b[38;5;28;01mraise\u001b[39;00m \u001b[38;5;167;01mValueError\u001b[39;00m(\n\u001b[0;32m    386\u001b[0m         \u001b[38;5;124mf\u001b[39m\u001b[38;5;124m\"\u001b[39m\u001b[38;5;124mUnknown \u001b[39m\u001b[38;5;132;01m{\u001b[39;00mprintable_module_name\u001b[38;5;132;01m}\u001b[39;00m\u001b[38;5;124m: \u001b[39m\u001b[38;5;124m'\u001b[39m\u001b[38;5;132;01m{\u001b[39;00mclass_name\u001b[38;5;132;01m}\u001b[39;00m\u001b[38;5;124m'\u001b[39m\u001b[38;5;124m. \u001b[39m\u001b[38;5;124m\"\u001b[39m\n\u001b[0;32m    387\u001b[0m         \u001b[38;5;124m\"\u001b[39m\u001b[38;5;124mPlease ensure you are using a `keras.utils.custom_object_scope` \u001b[39m\u001b[38;5;124m\"\u001b[39m\n\u001b[0;32m    388\u001b[0m         \u001b[38;5;124m\"\u001b[39m\u001b[38;5;124mand that this object is included in the scope. See \u001b[39m\u001b[38;5;124m\"\u001b[39m\n\u001b[0;32m    389\u001b[0m         \u001b[38;5;124m\"\u001b[39m\u001b[38;5;124mhttps://www.tensorflow.org/guide/keras/save_and_serialize\u001b[39m\u001b[38;5;124m\"\u001b[39m\n\u001b[0;32m    390\u001b[0m         \u001b[38;5;124m\"\u001b[39m\u001b[38;5;124m#registering_the_custom_object for details.\u001b[39m\u001b[38;5;124m\"\u001b[39m\n\u001b[0;32m    391\u001b[0m     )\n\u001b[0;32m    393\u001b[0m cls_config \u001b[38;5;241m=\u001b[39m config[\u001b[38;5;124m\"\u001b[39m\u001b[38;5;124mconfig\u001b[39m\u001b[38;5;124m\"\u001b[39m]\n\u001b[0;32m    394\u001b[0m \u001b[38;5;66;03m# Check if `cls_config` is a list. If it is a list, return the class and the\u001b[39;00m\n\u001b[0;32m    395\u001b[0m \u001b[38;5;66;03m# associated class configs for recursively deserialization. This case will\u001b[39;00m\n\u001b[0;32m    396\u001b[0m \u001b[38;5;66;03m# happen on the old version of sequential model (e.g. `keras_version` ==\u001b[39;00m\n\u001b[0;32m    397\u001b[0m \u001b[38;5;66;03m# \"2.0.6\"), which is serialized in a different structure, for example\u001b[39;00m\n\u001b[0;32m    398\u001b[0m \u001b[38;5;66;03m# \"{'class_name': 'Sequential',\u001b[39;00m\n\u001b[0;32m    399\u001b[0m \u001b[38;5;66;03m#   'config': [{'class_name': 'Embedding', 'config': ...}, {}, ...]}\".\u001b[39;00m\n",
      "\u001b[1;31mValueError\u001b[0m: Unknown activation function: 'Activation'. Please ensure you are using a `keras.utils.custom_object_scope` and that this object is included in the scope. See https://www.tensorflow.org/guide/keras/save_and_serialize#registering_the_custom_object for details."
     ]
    }
   ],
   "source": [
    "from keras.layers import Activation\n",
    "model = tf.keras.models.load_model('./Model_swish.h5')"
   ]
  },
  {
   "cell_type": "code",
   "execution_count": 18,
   "id": "480e9a3e",
   "metadata": {},
   "outputs": [
    {
     "name": "stdout",
     "output_type": "stream",
     "text": [
      "1/1 [==============================] - 1s 1s/step\n"
     ]
    },
    {
     "data": {
      "text/plain": [
       "array([[0.4804201 , 0.49889237, 0.98262006, 0.8350003 ],\n",
       "       [0.5786794 , 0.41185555, 0.43588865, 0.21967953],\n",
       "       [0.5247107 , 0.5341997 , 0.3947753 , 0.49453682],\n",
       "       [0.46977252, 0.30339992, 0.42761502, 0.54596186],\n",
       "       [0.5144788 , 0.48816526, 0.7825347 , 0.33435065],\n",
       "       [0.5301355 , 0.43287697, 0.64705616, 0.7180704 ],\n",
       "       [0.4925926 , 0.43358597, 0.02071334, 0.03879903],\n",
       "       [0.2214485 , 0.43548682, 0.25128418, 0.42207468],\n",
       "       [0.49050885, 0.40540493, 0.54274493, 0.34002036],\n",
       "       [0.48559898, 0.5118698 , 0.9028483 , 0.84078854],\n",
       "       [0.52187634, 0.51775855, 0.865823  , 0.7512323 ],\n",
       "       [0.45326364, 0.44689855, 0.7137232 , 0.65269536],\n",
       "       [0.659537  , 0.35659346, 0.40784624, 0.66335785],\n",
       "       [0.44134596, 0.33949357, 0.46700323, 0.48376614],\n",
       "       [0.51947254, 0.62489486, 0.12667577, 0.07924453],\n",
       "       [0.52989805, 0.3245391 , 0.41818678, 0.40610164],\n",
       "       [0.47718513, 0.25307536, 0.73366255, 0.44396162],\n",
       "       [0.41340148, 0.33209744, 0.15475498, 0.17008539],\n",
       "       [0.540061  , 0.41750816, 0.63483375, 0.5902564 ],\n",
       "       [0.5130619 , 0.5136053 , 0.9449387 , 0.75008655]], dtype=float32)"
      ]
     },
     "execution_count": 18,
     "metadata": {},
     "output_type": "execute_result"
    }
   ],
   "source": [
    "Predict_output = model.predict(trainImages[:], verbose=1)\n",
    "Predict_output"
   ]
  },
  {
   "cell_type": "code",
   "execution_count": 19,
   "id": "0c34bba2",
   "metadata": {},
   "outputs": [
    {
     "data": {
      "text/plain": [
       "array([[0.520417, 0.547619, 0.959167, 0.844444],\n",
       "       [0.591   , 0.439   , 0.588   , 0.25    ],\n",
       "       [0.442083, 0.594881, 0.4575  , 0.573034],\n",
       "       [0.445312, 0.294565, 0.39375 , 0.558696],\n",
       "       [0.51875 , 0.508333, 0.8125  , 0.363333],\n",
       "       [0.60339 , 0.431429, 0.664407, 0.731429],\n",
       "       [0.481   , 0.476   , 0.027   , 0.037   ],\n",
       "       [0.316406, 0.45463 , 0.413021, 0.561111],\n",
       "       [0.485   , 0.368   , 0.534   , 0.431   ],\n",
       "       [0.493359, 0.556614, 0.910156, 0.826233],\n",
       "       [0.536702, 0.512411, 0.884043, 0.851064],\n",
       "       [0.484   , 0.492   , 0.762   , 0.71    ],\n",
       "       [0.622066, 0.409624, 0.561815, 0.701878],\n",
       "       [0.441111, 0.331915, 0.553333, 0.468085],\n",
       "       [0.529   , 0.636   , 0.185   , 0.189   ],\n",
       "       [0.521354, 0.334347, 0.402083, 0.443769],\n",
       "       [0.496582, 0.260417, 0.819336, 0.427083],\n",
       "       [0.396667, 0.287411, 0.148   , 0.142518],\n",
       "       [0.494792, 0.374486, 0.65625 , 0.596708],\n",
       "       [0.532227, 0.52691 , 0.935547, 0.838542]], dtype=float32)"
      ]
     },
     "execution_count": 19,
     "metadata": {},
     "output_type": "execute_result"
    }
   ],
   "source": [
    "Actual_output = trainTargets[:]\n",
    "Actual_output"
   ]
  },
  {
   "cell_type": "code",
   "execution_count": 20,
   "id": "28499ba4",
   "metadata": {},
   "outputs": [],
   "source": [
    "with open('Model_swish_predict.csv', 'w') as file:\n",
    "    writer = csv.writer(file)\n",
    "    writer.writerows(Predict_output)\n",
    "with open('Model_swish_actual.csv', 'w') as file:\n",
    "    writer = csv.writer(file)\n",
    "    writer.writerows(Actual_output)"
   ]
  },
  {
   "cell_type": "code",
   "execution_count": null,
   "id": "28dadaf2",
   "metadata": {},
   "outputs": [],
   "source": []
  }
 ],
 "metadata": {
  "kernelspec": {
   "display_name": "Python 3 (ipykernel)",
   "language": "python",
   "name": "python3"
  },
  "language_info": {
   "codemirror_mode": {
    "name": "ipython",
    "version": 3
   },
   "file_extension": ".py",
   "mimetype": "text/x-python",
   "name": "python",
   "nbconvert_exporter": "python",
   "pygments_lexer": "ipython3",
   "version": "3.9.12"
  },
  "vscode": {
   "interpreter": {
    "hash": "ad2bdc8ecc057115af97d19610ffacc2b4e99fae6737bb82f5d7fb13d2f2c186"
   }
  }
 },
 "nbformat": 4,
 "nbformat_minor": 5
}
